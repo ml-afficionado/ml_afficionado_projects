{
  "nbformat": 4,
  "nbformat_minor": 0,
  "metadata": {
    "colab": {
      "name": "8_queens.py",
      "provenance": []
    },
    "kernelspec": {
      "name": "python3",
      "display_name": "Python 3"
    }
  },
  "cells": [
    {
      "cell_type": "code",
      "metadata": {
        "id": "k5kj_ji1AqT9",
        "colab_type": "code",
        "colab": {
          "base_uri": "https://localhost:8080/",
          "height": 35
        },
        "outputId": "6ddabb0b-bc56-4639-b3ec-67314bb9b6a3"
      },
      "source": [
        "#Number of queens\n",
        "N = 8\n",
        "\n",
        "#chessboard\n",
        "#NxN matrix with all elements 0\n",
        "board = [[0]*N for _ in range(N)]\n",
        "\n",
        "def is_attack(i, j):\n",
        "    #checking if there is a queen in row or column\n",
        "    for k in range(0,N):\n",
        "        if board[i][k]==1 or board[k][j]==1:\n",
        "            return True\n",
        "    #checking diagonals\n",
        "    for k in range(0,N):\n",
        "        for l in range(0,N):\n",
        "            if (k+l==i+j) or (k-l==i-j):\n",
        "                if board[k][l]==1:\n",
        "                    return True\n",
        "    return False\n",
        "\n",
        "def N_queen(n):\n",
        "    #if n is 0, solution found\n",
        "    if n==0:\n",
        "        return True\n",
        "    for i in range(0,N):\n",
        "        for j in range(0,N):\n",
        "            '''checking if we can place a queen here or not\n",
        "            queen will not be placed if the place is being attacked\n",
        "            or already occupied'''\n",
        "            if (not(is_attack(i,j))) and (board[i][j]!=1):\n",
        "                board[i][j] = 1\n",
        "                #recursion\n",
        "                #wether we can put the next queen with this arrangment or not\n",
        "                if N_queen(n-1)==True:\n",
        "                    return True\n",
        "                board[i][j] = 0\n",
        "\n",
        "    return False\n",
        "\n",
        "N_queen(N)\n",
        "def final_lst_solved():\n",
        "    final_lst=[]\n",
        "    for i in board:\n",
        "        #print (i)\n",
        "        index = i.index(1)\n",
        "        #print('index:',index)\n",
        "        final_lst.append(index)\n",
        "        #print('final_lst:',final_lst)\n",
        "        to_str = ' '.join([str(elem) for elem in final_lst])\n",
        "        #print(to_str) \n",
        "    return to_str\n",
        "\n",
        "print('final_str',final_lst_solved())"
      ],
      "execution_count": 1,
      "outputs": [
        {
          "output_type": "stream",
          "text": [
            "final_str 0 4 7 5 2 6 1 3\n"
          ],
          "name": "stdout"
        }
      ]
    }
  ]
}